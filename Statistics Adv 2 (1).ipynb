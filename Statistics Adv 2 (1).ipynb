{
 "cells": [
  {
   "cell_type": "markdown",
   "id": "4ba9120e-038b-4111-af5d-05555b9a6391",
   "metadata": {},
   "source": [
    "Q1: What are the Probability Mass Function (PMF) and Probability Density Function (PDF)? Explain with\n",
    "an example.\n"
   ]
  },
  {
   "cell_type": "markdown",
   "id": "6ba85dbf-6383-4fff-8f65-89e21a932a1f",
   "metadata": {},
   "source": [
    "Probability mass function denotes the probability that a discrete random variable will take on a particular value.\n",
    "It is used for discrete random variables."
   ]
  },
  {
   "cell_type": "markdown",
   "id": "0f861c64-7232-47e9-935e-eeb640cf2056",
   "metadata": {},
   "source": [
    "EXAMPLE : Suppose a fair coin is tossed twice and the sample space is recorded as S = [HH, HT, TH, TT]. The probability of getting heads needs to be determined. "
   ]
  },
  {
   "cell_type": "markdown",
   "id": "9aa245c3-3580-4695-b61b-c119ea9da493",
   "metadata": {},
   "source": [
    "Probability density function gives the probability that a continuous random variable will lie between a certain specified interval.                                                                 \n",
    "It is used for continuous random variables. \n",
    "\n",
    "EXAMPLE : Say we have a continuous random variable whose probability density function is given by f(x) = x + 2, when 0 < x ≤ 2. We want to find P(0.5 < X < 1). Then we integrate x + 2 within the limits 0.5 and 1. This gives us 1.375. "
   ]
  },
  {
   "cell_type": "code",
   "execution_count": null,
   "id": "f54505fe-3904-423f-904c-8b62909dbfa1",
   "metadata": {},
   "outputs": [],
   "source": []
  },
  {
   "cell_type": "markdown",
   "id": "6300ddf3-399e-41ca-a8c3-af44ddc6e588",
   "metadata": {},
   "source": [
    "Q2: What is Cumulative Density Function (CDF)? Explain with an example. Why CDF is used?"
   ]
  },
  {
   "cell_type": "markdown",
   "id": "01311272-5cfa-4c55-972a-ae22144d4754",
   "metadata": {},
   "source": [
    "The cumulative distribution function is used to describe the probability distribution of random variables. It can be used to describe the probability for a discrete, continuous or mixed variable. It is obtained by summing up the probability density function and getting the cumulative probability for a random variable."
   ]
  },
  {
   "cell_type": "markdown",
   "id": "45cc20c7-4f27-43f6-baf3-a9ade75aad8f",
   "metadata": {},
   "source": [
    "Probability density functions are a statistical measure used to gauge the likelihood that an investment will have returns that fall within a range of values and indicate the risks involved. PDFs are usually plotted on a graph that typically resembles a bell curve, with the data lying below the curve."
   ]
  },
  {
   "cell_type": "code",
   "execution_count": null,
   "id": "ab3a3148-17b1-4763-a733-3390b40b9992",
   "metadata": {},
   "outputs": [],
   "source": []
  },
  {
   "cell_type": "markdown",
   "id": "9becf6bd-b662-428e-be54-27053be6f657",
   "metadata": {},
   "source": [
    "Q3: What are some examples of situations where the normal distribution might be used as a model?\n",
    "Explain how the parameters of the normal distribution relate to the shape of the distribution."
   ]
  },
  {
   "cell_type": "markdown",
   "id": "a778a362-5b76-4b81-8f53-eea45d4115b1",
   "metadata": {},
   "source": [
    "9 Real Life Examples Of Normal Distribution                                                  \n",
    "1 Height. The height of people is an example of normal distribution.                                             \n",
    "2 Rolling A Dice. A fair rolling of dice is also a good example of normal distribution.                             \n",
    "3 Tossing A Coin.                                                     \n",
    "4 IQ.                                                                             \n",
    "5 Technical Stock Market.                                                          \n",
    "6 Blood Pressure.                                                                           \n",
    "7 Shoe Size.                                                                        \n",
    "8 Birth Weight.                                                                    \n",
    "9. Student’s Average Report                                 "
   ]
  },
  {
   "cell_type": "code",
   "execution_count": null,
   "id": "5da2db0b-46ca-499e-806c-c321cd82d435",
   "metadata": {},
   "outputs": [],
   "source": []
  },
  {
   "cell_type": "markdown",
   "id": "2c9165b4-d9d0-4338-9af1-b48594870b5a",
   "metadata": {},
   "source": [
    "Q4: Explain the importance of Normal Distribution. Give a few real-life examples of Normal\n",
    "Distribution."
   ]
  },
  {
   "cell_type": "markdown",
   "id": "fa776bae-2af4-4b3a-9d4a-53423d100033",
   "metadata": {},
   "source": [
    "The first advantage of the normal distribution is that it is symmetric and bell-shaped. This shape is useful because it can be used to describe many populations, from classroom grades to heights and weights."
   ]
  },
  {
   "cell_type": "markdown",
   "id": "388ed9b6-2fa0-4b28-9735-f73882ff269d",
   "metadata": {},
   "source": [
    "All kinds of variables in natural and social sciences are normally or approximately normally distributed.               \n",
    "Height, birth weight, reading ability, job satisfaction, or SAT scores are just a few examples of such variables."
   ]
  },
  {
   "cell_type": "code",
   "execution_count": null,
   "id": "b33f53a1-b29d-47ce-b189-8da6833db587",
   "metadata": {},
   "outputs": [],
   "source": []
  },
  {
   "cell_type": "markdown",
   "id": "16bcdcc6-ba2f-4d80-8a82-3ad8bbb5391a",
   "metadata": {},
   "source": [
    "Q5: What is Bernaulli Distribution? Give an Example. What is the difference between Bernoulli\n",
    "Distribution and Binomial Distribution?"
   ]
  },
  {
   "cell_type": "markdown",
   "id": "03a87f2f-a9c8-4e66-b193-4183ef90de4d",
   "metadata": {},
   "source": [
    "Bernoulli deals with the outcome of the single trial of the event, whereas Binomial deals with the outcome of the multiple trials of the single event. Bernoulli is used when the outcome of an event is required for only one time, whereas the Binomial is used when the outcome of an event is required multiple times."
   ]
  },
  {
   "cell_type": "markdown",
   "id": "9e42d6ad-0b92-48d5-b7b5-d65fd764375d",
   "metadata": {},
   "source": [
    "The Bernoulli distribution represents the success or failure of a single Bernoulli trial. The Binomial Distribution represents the number of successes and failures in n independent Bernoulli trials for some given value of n."
   ]
  },
  {
   "cell_type": "code",
   "execution_count": null,
   "id": "d7ba519a-2903-4ff6-98d0-5966c4ed3294",
   "metadata": {},
   "outputs": [],
   "source": []
  },
  {
   "cell_type": "markdown",
   "id": "6c0589fa-9535-42b4-b9db-78b6e57e895c",
   "metadata": {},
   "source": [
    "Q6. Consider a dataset with a mean of 50 and a standard deviation of 10. If we assume that the dataset\n",
    "is normally distributed, what is the probability that a randomly selected observation will be greater\n",
    "than 60? Use the appropriate formula and show your calculations."
   ]
  },
  {
   "cell_type": "code",
   "execution_count": 14,
   "id": "a8c456ae-386d-46ed-ae6b-f65663ef88f8",
   "metadata": {},
   "outputs": [
    {
     "ename": "NameError",
     "evalue": "name 'Normal_distribution' is not defined",
     "output_type": "error",
     "traceback": [
      "\u001b[0;31m---------------------------------------------------------------------------\u001b[0m",
      "\u001b[0;31mNameError\u001b[0m                                 Traceback (most recent call last)",
      "Cell \u001b[0;32mIn[14], line 4\u001b[0m\n\u001b[1;32m      2\u001b[0m \u001b[38;5;28;01mimport\u001b[39;00m \u001b[38;5;21;01mmatplotlib\u001b[39;00m\u001b[38;5;21;01m.\u001b[39;00m\u001b[38;5;21;01mpyplot\u001b[39;00m \u001b[38;5;28;01mas\u001b[39;00m \u001b[38;5;21;01mplt\u001b[39;00m \n\u001b[1;32m      3\u001b[0m \u001b[38;5;28;01mimport\u001b[39;00m \u001b[38;5;21;01mpandas\u001b[39;00m \u001b[38;5;28;01mas\u001b[39;00m \u001b[38;5;21;01mpd\u001b[39;00m\n\u001b[0;32m----> 4\u001b[0m nd \u001b[38;5;241m=\u001b[39m \u001b[43mNormal_distribution\u001b[49m(mu\u001b[38;5;241m=\u001b[39m\u001b[38;5;241m100\u001b[39m, std\u001b[38;5;241m=\u001b[39m\u001b[38;5;241m12\u001b[39m)\n\u001b[1;32m      5\u001b[0m p \u001b[38;5;241m=\u001b[39m nd\u001b[38;5;241m.\u001b[39mprob(\u001b[38;5;241m98\u001b[39m)\n",
      "\u001b[0;31mNameError\u001b[0m: name 'Normal_distribution' is not defined"
     ]
    }
   ],
   "source": [
    "import numpy as np \n",
    "import matplotlib.pyplot as plt \n",
    "import pandas as pd\n",
    "nd = Normal_distribution(mu=100, std=12)\n",
    "p = nd.prob(98)"
   ]
  },
  {
   "cell_type": "code",
   "execution_count": null,
   "id": "84e9a16a-bcda-46ee-bc48-ac3cd50bef1e",
   "metadata": {},
   "outputs": [],
   "source": []
  },
  {
   "cell_type": "markdown",
   "id": "f5f9beee-4dc6-4f1a-81af-ea47a8ddcd34",
   "metadata": {},
   "source": [
    "Q7: Explain uniform Distribution with an example."
   ]
  },
  {
   "cell_type": "markdown",
   "id": "1466091a-b338-4017-a57e-77a89a675b93",
   "metadata": {},
   "source": [
    "In statistics, uniform distribution refers to a type of probability distribution in which all outcomes are equally likely. A deck of cards has within it uniform distributions because the likelihood of drawing a heart, a club, a diamond, or a spade is equally likely."
   ]
  },
  {
   "cell_type": "markdown",
   "id": "dd22a821-0909-41e9-b48d-4c3d928d49d4",
   "metadata": {},
   "source": [
    "Uniform Distribution Examples. In statistics, the uniform distribution is a type of probability distribution in that all the possible outcomes are equally possible. A deck of cards has uniform distributions within it since the probability of drawing a heart, club, diamond or spade is equally possible"
   ]
  },
  {
   "cell_type": "code",
   "execution_count": null,
   "id": "3714e7eb-7211-4eab-89ed-e568738077e5",
   "metadata": {},
   "outputs": [],
   "source": []
  },
  {
   "cell_type": "markdown",
   "id": "01287138-38f1-449d-90b5-4829bb2523a5",
   "metadata": {},
   "source": [
    "Q8: What is the z score? State the importance of the z score."
   ]
  },
  {
   "cell_type": "markdown",
   "id": "bb9f55d1-f485-4695-8a55-35e836626ee3",
   "metadata": {},
   "source": [
    "Z-score is a statistical measurement that describes a value's relationship to the mean of a group of values. Z-score is measured in terms of standard deviations from the mean. If a Z-score is 0, it indicates that the data point's score is identical to the mean score."
   ]
  },
  {
   "cell_type": "markdown",
   "id": "453dc3c4-bb06-4d86-9490-6a6e2872a66e",
   "metadata": {},
   "source": [
    "A measure of how many standard deviations below or above the population mean a raw score is called z score. It will be positive if the value lies above the mean and negative if it lies below the mean. It is also known as standard score. It indicates how many standard deviations an entity is, from the mean."
   ]
  },
  {
   "cell_type": "code",
   "execution_count": null,
   "id": "092dddd8-e806-463b-b371-e2ac4d32bd80",
   "metadata": {},
   "outputs": [],
   "source": []
  },
  {
   "cell_type": "markdown",
   "id": "f807179a-8091-4277-9013-372cad4750a7",
   "metadata": {},
   "source": [
    "Q9: What is Central Limit Theorem? State the significance of the Central Limit Theorem."
   ]
  },
  {
   "cell_type": "markdown",
   "id": "1675877b-9095-4fa4-9b5d-332b759a01aa",
   "metadata": {},
   "source": [
    "The central limit theorem states that whenever a random sample of size n is taken from any distribution with mean and variance, then the sample mean will be approximately a normal distribution with mean and variance. The larger the value of the sample size, the better the approximation of the normal."
   ]
  },
  {
   "cell_type": "markdown",
   "id": "71f50bd7-6063-4f7e-aca8-6d3d62838119",
   "metadata": {},
   "source": [
    "The central limit theorem is useful when analyzing large data sets because it allows one to assume that the sampling distribution of the mean will be normally-distributed in most cases. This allows for easier statistical analysis and inference."
   ]
  },
  {
   "cell_type": "code",
   "execution_count": null,
   "id": "2d98779f-073e-4228-b56f-79aed37b5f29",
   "metadata": {},
   "outputs": [],
   "source": []
  },
  {
   "cell_type": "markdown",
   "id": "f41b8c7a-299f-4077-95f5-f76b44d3117c",
   "metadata": {},
   "source": [
    "Q10: State the assumptions of the Central Limit Theorem."
   ]
  },
  {
   "cell_type": "markdown",
   "id": "e864f710-35bd-4813-b04f-778a779da8b3",
   "metadata": {},
   "source": [
    "Assumptions Behind the Central Limit Theorem                                                                                                 \n",
    "The data must follow the randomization condition. It must be sampled randomly. Samples should be independent of each other."
   ]
  },
  {
   "cell_type": "markdown",
   "id": "81f644e5-c222-40e4-960f-0b416e54e760",
   "metadata": {},
   "source": [
    "The data must adhere to the randomization rule. It needs to be sampled at random. The samples should be unrelated to one another. One sample should not impact the others."
   ]
  },
  {
   "cell_type": "markdown",
   "id": "d3352f60-fc36-42cf-ba3a-bd2034b89343",
   "metadata": {},
   "source": [
    "The central limit theorem states that if you take sufficiently large samples from a population, the samples' means will be normally distributed, even if the population isn't normally distributed."
   ]
  },
  {
   "cell_type": "code",
   "execution_count": null,
   "id": "7c4237e6-f5b9-41d5-9f3c-ec7ab0b0c14f",
   "metadata": {},
   "outputs": [],
   "source": []
  }
 ],
 "metadata": {
  "kernelspec": {
   "display_name": "Python 3 (ipykernel)",
   "language": "python",
   "name": "python3"
  },
  "language_info": {
   "codemirror_mode": {
    "name": "ipython",
    "version": 3
   },
   "file_extension": ".py",
   "mimetype": "text/x-python",
   "name": "python",
   "nbconvert_exporter": "python",
   "pygments_lexer": "ipython3",
   "version": "3.10.8"
  }
 },
 "nbformat": 4,
 "nbformat_minor": 5
}
